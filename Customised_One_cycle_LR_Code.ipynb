{
  "nbformat": 4,
  "nbformat_minor": 0,
  "metadata": {
    "colab": {
      "name": " Customised One cycle LR - Code.ipynb",
      "version": "0.3.2",
      "provenance": [],
      "collapsed_sections": [],
      "include_colab_link": true
    },
    "kernelspec": {
      "name": "python3",
      "display_name": "Python 3"
    }
  },
  "cells": [
    {
      "cell_type": "markdown",
      "metadata": {
        "id": "view-in-github",
        "colab_type": "text"
      },
      "source": [
        "<a href=\"https://colab.research.google.com/github/shravankumargulvadi/Modified-One-Cycle-Learning-Rate/blob/master/Customised_One_cycle_LR_Code.ipynb\" target=\"_parent\"><img src=\"https://colab.research.google.com/assets/colab-badge.svg\" alt=\"Open In Colab\"/></a>"
      ]
    },
    {
      "cell_type": "markdown",
      "metadata": {
        "id": "QS3JSc1sWMbY",
        "colab_type": "text"
      },
      "source": [
        "## Customised One cycle LR - Code"
      ]
    },
    {
      "cell_type": "code",
      "metadata": {
        "id": "sUsRMUeLVyde",
        "colab_type": "code",
        "colab": {}
      },
      "source": [
        "from sklearn.metrics import log_loss, roc_auc_score, accuracy_score\n",
        "from keras.losses import binary_crossentropy\n",
        "from keras.metrics import binary_accuracy\n",
        "from keras import backend as K\n",
        "from keras.callbacks import *\n",
        "import keras\n",
        "import numpy as np\n",
        "\n",
        "\n",
        "class CustomOnecycle(keras.callbacks.Callback):\n",
        "   def __init__(self,max_lr,min_lr,epoch_peak,batch_size,epoch,train_size):\n",
        " \n",
        "        self.max_lr = max_lr\n",
        "        self.min_lr = min_lr\n",
        "        self.epoch_peak = epoch_peak\n",
        "        self.train_size=train_size\n",
        "        self.batch_size=batch_size\n",
        "        self.peak_iteration=int((self.epoch_peak*(train_size/batch_size)))\n",
        "        self.max_iteration=epoch*(train_size/batch_size)\n",
        "        self.clr_iterations=0\n",
        "        self.lrlist=[]\n",
        "        self.batchlist=[]\n",
        "        \n",
        "   \n",
        "   def clr(self, i):\n",
        "       print()\n",
        "       self.batchlist.append(i)\n",
        "   \n",
        "       if i <self.peak_iteration:\n",
        "          lr=(i*((self.max_lr-self.min_lr)/(self.peak_iteration-1)))+self.min_lr\n",
        "          \n",
        "       else:\n",
        "          lr=((i-self.peak_iteration)*((self.min_lr-self.max_lr)/(self.max_iteration-self.peak_iteration)))+self.max_lr\n",
        "         \n",
        "       return lr\n",
        "      \n",
        "    \n",
        "        \n",
        "  \n",
        "   def on_batch_begin(self, batch, logs=None):\n",
        "        \n",
        "        \n",
        "        logs = logs or {}\n",
        "     \n",
        "        self.clr_iterations += 1\n",
        "        lr=self.clr(self.clr_iterations)\n",
        "        self.lrlist.append(lr)\n",
        "        print(lr)\n",
        "\n",
        "        \n",
        "       \n",
        "        K.set_value(self.model.optimizer.lr, lr)\n",
        "        "
      ],
      "execution_count": 0,
      "outputs": []
    }
  ]
}